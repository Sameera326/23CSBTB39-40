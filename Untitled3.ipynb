{
  "nbformat": 4,
  "nbformat_minor": 0,
  "metadata": {
    "colab": {
      "provenance": [],
      "authorship_tag": "ABX9TyPSouRt9d/hZ7cQSqqRLay4",
      "include_colab_link": true
    },
    "kernelspec": {
      "name": "python3",
      "display_name": "Python 3"
    },
    "language_info": {
      "name": "python"
    }
  },
  "cells": [
    {
      "cell_type": "markdown",
      "metadata": {
        "id": "view-in-github",
        "colab_type": "text"
      },
      "source": [
        "<a href=\"https://colab.research.google.com/github/Sameera326/23CSBTB39-40/blob/main/Untitled3.ipynb\" target=\"_parent\"><img src=\"https://colab.research.google.com/assets/colab-badge.svg\" alt=\"Open In Colab\"/></a>"
      ]
    },
    {
      "cell_type": "code",
      "execution_count": 21,
      "metadata": {
        "id": "WddWS5yJLH0j"
      },
      "outputs": [],
      "source": [
        "import pandas as pd\n",
        "from sklearn.model_selection import train_test_split\n",
        "from sklearn.preprocessing import MinMaxScaler\n",
        "from sklearn.datasets import load_iris\n",
        "# Load the iris dataset\n",
        "iris = load_iris()\n",
        "df = pd.DataFrame(data=iris.data, columns=iris.feature_names)\n",
        "# Add target variable to the DataFrame\n",
        "df['target'] = iris.target\n",
        "# Identify features and target\n",
        "features = df.drop('target',axis=1)\n",
        "target = df['target']\n",
        "# Normalize the features using MinMaxScaler\n",
        "scaler = MinMaxScaler()\n",
        "features_normalized = scaler.fit_transform(features)\n",
        "features_normalized_df = pd.DataFrame(features_normalized, columns=features.columns)"
      ]
    },
    {
      "cell_type": "code",
      "source": [
        "# Split the data into training and testing sets\n",
        "X_train, X_test, y_train, y_test = train_test_split(features_normalized_df, target, test_size=0.2, random_state=42)\n",
        "\n",
        "# Display the first few rows of each dataset\n",
        "print(\"Training Features:\\n\", X_train.head())\n",
        "print(\"\\nTesting Features:\\n\", X_test.head())\n",
        "print(\"\\nTraining Target:\\n\", y_train.head())\n",
        "print(\"\\nTesting Target:\\n\", y_test.head())"
      ],
      "metadata": {
        "colab": {
          "base_uri": "https://localhost:8080/"
        },
        "id": "Jc605qa_VKla",
        "outputId": "eaaa34ca-ffc1-4ccb-f4f7-f2015bdc002c"
      },
      "execution_count": 22,
      "outputs": [
        {
          "output_type": "stream",
          "name": "stdout",
          "text": [
            "Training Features:\n",
            "     sepal length (cm)  sepal width (cm)  petal length (cm)  petal width (cm)\n",
            "22           0.083333          0.666667           0.000000          0.041667\n",
            "15           0.388889          1.000000           0.084746          0.125000\n",
            "65           0.666667          0.458333           0.576271          0.541667\n",
            "11           0.138889          0.583333           0.101695          0.041667\n",
            "42           0.027778          0.500000           0.050847          0.041667\n",
            "\n",
            "Testing Features:\n",
            "      sepal length (cm)  sepal width (cm)  petal length (cm)  petal width (cm)\n",
            "73            0.500000          0.333333           0.627119          0.458333\n",
            "18            0.388889          0.750000           0.118644          0.083333\n",
            "118           0.944444          0.250000           1.000000          0.916667\n",
            "78            0.472222          0.375000           0.593220          0.583333\n",
            "76            0.694444          0.333333           0.644068          0.541667\n",
            "\n",
            "Training Target:\n",
            " 22    0\n",
            "15    0\n",
            "65    1\n",
            "11    0\n",
            "42    0\n",
            "Name: target, dtype: int64\n",
            "\n",
            "Testing Target:\n",
            " 73     1\n",
            "18     0\n",
            "118    2\n",
            "78     1\n",
            "76     1\n",
            "Name: target, dtype: int64\n"
          ]
        }
      ]
    }
  ]
}