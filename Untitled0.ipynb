{
  "nbformat": 4,
  "nbformat_minor": 0,
  "metadata": {
    "colab": {
      "provenance": [],
      "authorship_tag": "ABX9TyP4Oevn8gbsMitJpbwD3Al4",
      "include_colab_link": true
    },
    "kernelspec": {
      "name": "python3",
      "display_name": "Python 3"
    },
    "language_info": {
      "name": "python"
    }
  },
  "cells": [
    {
      "cell_type": "markdown",
      "metadata": {
        "id": "view-in-github",
        "colab_type": "text"
      },
      "source": [
        "<a href=\"https://colab.research.google.com/github/Sameera326/23CSBTB39-40/blob/main/Untitled0.ipynb\" target=\"_parent\"><img src=\"https://colab.research.google.com/assets/colab-badge.svg\" alt=\"Open In Colab\"/></a>"
      ]
    },
    {
      "cell_type": "markdown",
      "source": [
        "Part 1- Implement Basic Data Structures using Numpy, Pandas"
      ],
      "metadata": {
        "id": "AzGARK25-U8M"
      }
    },
    {
      "cell_type": "code",
      "execution_count": 2,
      "metadata": {
        "colab": {
          "base_uri": "https://localhost:8080/"
        },
        "id": "Rsw4nsvd-O5v",
        "outputId": "8509d675-0820-468e-9755-cf1f4a67d3c0"
      },
      "outputs": [
        {
          "output_type": "stream",
          "name": "stdout",
          "text": [
            "array1 [1 5 2 4 7]\n",
            "array2 [10  5  3  9  7]\n"
          ]
        }
      ],
      "source": [
        "# @title Default title text\n",
        "import numpy as np\n",
        "import pandas as pd\n",
        "array1=np.array([1,5,2,4,7])\n",
        "array2=np.array([10,5,3,9,7])\n",
        "print(\"array1\",array1)\n",
        "print(\"array2\",array2)"
      ]
    }
  ]
}