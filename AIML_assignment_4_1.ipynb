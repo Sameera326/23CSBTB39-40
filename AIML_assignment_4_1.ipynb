{
  "nbformat": 4,
  "nbformat_minor": 0,
  "metadata": {
    "colab": {
      "provenance": [],
      "authorship_tag": "ABX9TyOd7qLNk2T0HsO1QFYviwU7",
      "include_colab_link": true
    },
    "kernelspec": {
      "name": "python3",
      "display_name": "Python 3"
    },
    "language_info": {
      "name": "python"
    }
  },
  "cells": [
    {
      "cell_type": "markdown",
      "metadata": {
        "id": "view-in-github",
        "colab_type": "text"
      },
      "source": [
        "<a href=\"https://colab.research.google.com/github/Sameera326/23CSBTB39-40/blob/main/AIML_assignment_4_1.ipynb\" target=\"_parent\"><img src=\"https://colab.research.google.com/assets/colab-badge.svg\" alt=\"Open In Colab\"/></a>"
      ]
    },
    {
      "cell_type": "code",
      "execution_count": 22,
      "metadata": {
        "colab": {
          "base_uri": "https://localhost:8080/"
        },
        "id": "5S9J4F9nTVBq",
        "outputId": "355ea9c8-9388-433b-da36-ee494dff85e5"
      },
      "outputs": [
        {
          "output_type": "stream",
          "name": "stdout",
          "text": [
            "number of rows 545\n",
            "number of cols 13\n"
          ]
        }
      ],
      "source": [
        "import numpy as np\n",
        "import pandas as pd\n",
        "import matplotlib.pyplot as plt\n",
        "import seaborn as sns\n",
        "housing=pd.read_csv(\"aiml-housing.csv\")\n",
        "housing.head()\n",
        "housing.tail()\n",
        "rows=len(housing.axes[0])\n",
        "cols=len(housing.axes[1])\n",
        "print(\"number of rows\",rows)\n",
        "print(\"number of cols\",cols)"
      ]
    }
  ]
}